{
 "cells": [
  {
   "cell_type": "markdown",
   "metadata": {},
   "source": [
    "<b>premise:</b> qalys due to risk-preventing treatment are overestimated in patients with non-fatal stroke or MI\n"
   ]
  },
  {
   "cell_type": "markdown",
   "metadata": {},
   "source": [
    "<b>elaboration:</b> the apparent effect of secondary prevention is the sum of two effects = \n",
    "<ol>\n",
    "<li> a revised version of the primary prevention effect. conditional on having had a first event, risk for subsequent events is higher, even if that first event does not causally increase your risk of a second event directly. (i.e. the first event is telling me information that was not evident when i observed your baseline risk). </li>\n",
    "<li> the causal effect due to pathologic changes caused by the non-fatal event. (e.g. because i had a stroke, my mobility was decreased and i gained weight and my blood pressure increased)</li>\n",
    "</ol>\n",
    "\n",
    "this is a potentially big problem because its likely that most of the increased risk observed in secondary prevention contexts is due to #1, not #2. \n"
   ]
  },
  {
   "cell_type": "markdown",
   "metadata": {},
   "source": [
    "<b>example:</b> an individual has a baseline risk of stroke of 10% per year. assuming a treatment with a 25% RRR, then have a 2.5% ARR in year 1 (t=0 to t=1) that is causally related to treatment. then they have a TIA which results in no fundamental increase in risk. TIA appears to increases risk solely through mechanism #1, doubling the baseline risk. so, their  risk of stroke in year 2 (t=1 to t=2) is 20%. assuming a treatment with a 25% RRR, the year 2 ARR is 5%. \n",
    "\n",
    "<i>but, that  can’t be right.</i> the casual effect of treatment can’t change — nothing changed in that individual. the true casual effect can’t be different in those two time periods…at the individual level we are either overestimating the casual effect in year 2 or underestimating it in year 1.\n",
    "\n"
   ]
  },
  {
   "cell_type": "markdown",
   "metadata": {},
   "source": [
    "<b>working that out in detail:</b> let's do a simple sim in a population with:\n",
    "<ol>\n",
    "    <li>a known “true” baseline risk</li>\n",
    "    <li>100% treatment adherence</li>\n",
    "    <li>a constant treatment effect (in primary and secondary prevention)</li>\n",
    "    <li> zero fatal events</li>\n",
    "    <li>the secondary prevention population has the same basline risk distribution, but twice the baseline mean risk</li>\n",
    "    <li> there are no other causal factors in the seconeary prevention population that drive risk</li>\n",
    "</ol>    \n",
    "this lets us estimate ehe “true causal effect” of treatment = baseline risk * treamtent effect.\n",
    "<p>this is the worst case scenario for over-estimation in the primary vs. secondary populaitons. with this setup, we can estimate what a simulation would find based on the basline risk assumption and the doubling of baseline risk in secondary prevention— when having an event doubles your baseline risk for identifying subsequent events. then we can estimate the “observed effect” (as it would be observed in a sim) by taking the baseline risk using it, by chance, to generate events and then doubling the baseline risk when you get into secondary prevention mode and then applying treatment effects at each stage based on your perceived risk (i.e. primary prevention risk prior to an event and the doubled secondary prevention risk thereafter). then we can let it run for 10 years...\n"
   ]
  },
  {
   "cell_type": "code",
   "execution_count": 2,
   "metadata": {},
   "outputs": [],
   "source": [
    "import pandas as pd\n",
    "import numpy as np"
   ]
  },
  {
   "cell_type": "markdown",
   "metadata": {},
   "source": [
    "Assume that everybody starts event free and everybody is treated. We'll look at multiple time epochs (e.g. t1 (year 0-> year1), t2 (year 1->2) and t3 (year 2->3))"
   ]
  },
  {
   "cell_type": "markdown",
   "metadata": {},
   "source": [
    "### Setup a baseline risk distribution and define baseline assumptions"
   ]
  },
  {
   "cell_type": "code",
   "execution_count": 98,
   "metadata": {},
   "outputs": [],
   "source": [
    "import functools\n",
    "\n",
    "\n",
    "# this function takes a baseline event rate and randomly reverses it based on the magnitude of the treatment effect\n",
    "def applyTreatment(x, rrrPrimaryPrevention):\n",
    "    if x ==1:\n",
    "        return np.random.uniform(low=0, high=1, size=1) > rrrPrimaryPrevention\n",
    "    elif x==0:\n",
    "        return 0\n",
    "\n",
    "# assign events based on the baseline risk and whether an event is in priomary or secondary pvention contesxt\n",
    "def assignEventAcrossPrimaryAndSecondaryPrevention(x):\n",
    "    riskForComparison = x.secondaryRisk if x.anySecondaryPrevention else x.baselineRisk\n",
    "    return np.random.uniform(low=0, high=1, size=1) < riskForComparison\n",
    "\n",
    "# assigns two variables for each time step, \n",
    "#\"noTreatmentTx\" = 'whether you have an event at a given period' WITHOUT treatment and \n",
    "#'treatment Tx' = whether you have an event at a given epoch WITH treamtent\n",
    "# also tracks whether a patient has entered into a secondary prevention context, but tracking whether they have a treated event\n",
    "def assignEventsForEpoch(t, timeSeries, rrrPrimaryPrevention ):\n",
    "    noTreatmentName = 'noTreatmentT' + str(t)\n",
    "    treatmentName = 'treatmentT' + str(t)\n",
    "\n",
    "    timeSeries[noTreatmentName] = (timeSeries.apply(assignEventAcrossPrimaryAndSecondaryPrevention, axis=1)).astype(int)\n",
    "    timeSeries[treatmentName] = (timeSeries[noTreatmentName].apply(functools.partial(applyTreatment,rrrPrimaryPrevention )).astype(int)\n",
    "    timeSeries[('treatmentEffect' + str(t))] = timeSeries[noTreatmentName] - timeSeries[treatmentName]\n",
    "    timeSeries['anySecondaryPrevention'] = pd.DataFrame([timeSeries['anySecondaryPrevention'],timeSeries[treatmentName]]).max()\n",
    "\n",
    "\n",
    "# setup a dataframe that tracks individual \"patients\" across a wide format dataframe\n",
    "def setupPopulation(n=10000, baselineRisk = 0.10,secondaryRiskMultiplier = 2.0, rrrPrimaryPrevention = 0.20, durationOfFollowup = 10 ):\n",
    "    # setup the baseline risk\n",
    "    timeSeries = pd.DataFrame(data={'baselineRisk' : np.random.normal(loc=baselineRisk, scale=(0.04), size=n)})\n",
    "    timeSeries[timeSeries['baselineRisk'] < 0 ] = 0\n",
    "    timeSeries['secondaryRisk'] = timeSeries['baselineRisk'] * secondaryRiskMultiplier\n",
    "    # anySecondaryPRevention is a flag to track whether somebody ever had an event\n",
    "    timeSeries['anySecondaryPrevention'] = 0 # everybody starts in primary prevention\n",
    "    \n",
    "    for t in range(1, durationOfFollowup+1):\n",
    "        assignEventsForEpoch(t, timeSeries, rrrPrimaryPrevention)\n",
    "    \n",
    "    # keep track of the first wave when somebody had an event\n",
    "    conditions = [timeSeries[('treatmentT' + str(x))] ==1 for x in range(1, durationOfFollowup+1)]\n",
    "    timeSeries['strokeWave'] = (np.select(conditions, [x for x in range(1,durationOfFollowup+1)], default='0')).astype(int)\n",
    "    waveLabel={x:'stroke wave: ' + str(x) for x in range(1, durationOfFollowup+1)}\n",
    "    waveLabel[0] = 'no stroke'\n",
    "    timeSeries['strokeWaveLab'] = timeSeries['strokeWave'].apply(lambda x : waveLabel[x] )\n",
    "    # observed treatment effet is the average of the treatemnet event rates and untreated event rates\n",
    "    timeSeries['observedTreatmentEffect'] = timeSeries[['treatmentEffect' + str(t) for t in range(1, durationOfFollowup+1)]].sum(axis=1)/durationOfFollowup\n",
    "    # true causal effect = the effect that we wouild have expected before undertaking the sim\n",
    "    timeSeries['trueCausalEffect'] = timeSeries.baselineRisk * rrrPrimaryPrevention\n",
    "    return timeSeries"
   ]
  },
  {
   "cell_type": "markdown",
   "metadata": {},
   "source": [
    "### Assign events for the baseline simulation"
   ]
  },
  {
   "cell_type": "code",
   "execution_count": 99,
   "metadata": {},
   "outputs": [],
   "source": [
    "baselineAssumptionPopulations = setupPopulation()"
   ]
  },
  {
   "cell_type": "code",
   "execution_count": 100,
   "metadata": {},
   "outputs": [
    {
     "data": {
      "text/html": [
       "<div>\n",
       "<style scoped>\n",
       "    .dataframe tbody tr th:only-of-type {\n",
       "        vertical-align: middle;\n",
       "    }\n",
       "\n",
       "    .dataframe tbody tr th {\n",
       "        vertical-align: top;\n",
       "    }\n",
       "\n",
       "    .dataframe thead th {\n",
       "        text-align: right;\n",
       "    }\n",
       "</style>\n",
       "<table border=\"1\" class=\"dataframe\">\n",
       "  <thead>\n",
       "    <tr style=\"text-align: right;\">\n",
       "      <th></th>\n",
       "      <th>observedTreatmentEffect</th>\n",
       "      <th>trueCausalEffect</th>\n",
       "    </tr>\n",
       "    <tr>\n",
       "      <th>strokeWave</th>\n",
       "      <th></th>\n",
       "      <th></th>\n",
       "    </tr>\n",
       "  </thead>\n",
       "  <tbody>\n",
       "    <tr>\n",
       "      <th>0</th>\n",
       "      <td>0.019199</td>\n",
       "      <td>0.017296</td>\n",
       "    </tr>\n",
       "    <tr>\n",
       "      <th>1</th>\n",
       "      <td>0.040940</td>\n",
       "      <td>0.023325</td>\n",
       "    </tr>\n",
       "    <tr>\n",
       "      <th>2</th>\n",
       "      <td>0.039393</td>\n",
       "      <td>0.023023</td>\n",
       "    </tr>\n",
       "    <tr>\n",
       "      <th>3</th>\n",
       "      <td>0.037103</td>\n",
       "      <td>0.022917</td>\n",
       "    </tr>\n",
       "    <tr>\n",
       "      <th>4</th>\n",
       "      <td>0.033894</td>\n",
       "      <td>0.022439</td>\n",
       "    </tr>\n",
       "    <tr>\n",
       "      <th>5</th>\n",
       "      <td>0.031647</td>\n",
       "      <td>0.022203</td>\n",
       "    </tr>\n",
       "    <tr>\n",
       "      <th>6</th>\n",
       "      <td>0.030334</td>\n",
       "      <td>0.021966</td>\n",
       "    </tr>\n",
       "    <tr>\n",
       "      <th>7</th>\n",
       "      <td>0.028047</td>\n",
       "      <td>0.021641</td>\n",
       "    </tr>\n",
       "    <tr>\n",
       "      <th>8</th>\n",
       "      <td>0.025379</td>\n",
       "      <td>0.021376</td>\n",
       "    </tr>\n",
       "    <tr>\n",
       "      <th>9</th>\n",
       "      <td>0.022718</td>\n",
       "      <td>0.021209</td>\n",
       "    </tr>\n",
       "    <tr>\n",
       "      <th>10</th>\n",
       "      <td>0.020886</td>\n",
       "      <td>0.021137</td>\n",
       "    </tr>\n",
       "  </tbody>\n",
       "</table>\n",
       "</div>"
      ],
      "text/plain": [
       "            observedTreatmentEffect  trueCausalEffect\n",
       "strokeWave                                           \n",
       "0                          0.019199          0.017296\n",
       "1                          0.040940          0.023325\n",
       "2                          0.039393          0.023023\n",
       "3                          0.037103          0.022917\n",
       "4                          0.033894          0.022439\n",
       "5                          0.031647          0.022203\n",
       "6                          0.030334          0.021966\n",
       "7                          0.028047          0.021641\n",
       "8                          0.025379          0.021376\n",
       "9                          0.022718          0.021209\n",
       "10                         0.020886          0.021137"
      ]
     },
     "execution_count": 100,
     "metadata": {},
     "output_type": "execute_result"
    }
   ],
   "source": [
    "baselineAssumptionPopulations.groupby('strokeWave')[['observedTreatmentEffect','trueCausalEffect']].mean()"
   ]
  },
  {
   "cell_type": "code",
   "execution_count": 101,
   "metadata": {},
   "outputs": [
    {
     "name": "stdout",
     "output_type": "stream",
     "text": [
      "observedTreatmentEffect    0.026549\n",
      "trueCausalEffect           0.020021\n",
      "dtype: float64\n",
      "1.326063678157211\n"
     ]
    }
   ],
   "source": [
    "overallResult = baselineAssumptionPopulations[['observedTreatmentEffect', 'trueCausalEffect']].mean()\n",
    "print (overallResult)\n",
    "print (overallResult['observedTreatmentEffect'] / overallResult['trueCausalEffect'])"
   ]
  },
  {
   "cell_type": "code",
   "execution_count": 102,
   "metadata": {},
   "outputs": [
    {
     "data": {
      "text/html": [
       "<div>\n",
       "<style scoped>\n",
       "    .dataframe tbody tr th:only-of-type {\n",
       "        vertical-align: middle;\n",
       "    }\n",
       "\n",
       "    .dataframe tbody tr th {\n",
       "        vertical-align: top;\n",
       "    }\n",
       "\n",
       "    .dataframe thead th {\n",
       "        text-align: right;\n",
       "    }\n",
       "</style>\n",
       "<table border=\"1\" class=\"dataframe\">\n",
       "  <thead>\n",
       "    <tr style=\"text-align: right;\">\n",
       "      <th></th>\n",
       "      <th>observedTreatmentEffect</th>\n",
       "      <th>trueCausalEffect</th>\n",
       "    </tr>\n",
       "    <tr>\n",
       "      <th>anySecondaryPrevention</th>\n",
       "      <th></th>\n",
       "      <th></th>\n",
       "    </tr>\n",
       "  </thead>\n",
       "  <tbody>\n",
       "    <tr>\n",
       "      <th>0</th>\n",
       "      <td>0.019199</td>\n",
       "      <td>0.017296</td>\n",
       "    </tr>\n",
       "    <tr>\n",
       "      <th>1</th>\n",
       "      <td>0.032755</td>\n",
       "      <td>0.022322</td>\n",
       "    </tr>\n",
       "  </tbody>\n",
       "</table>\n",
       "</div>"
      ],
      "text/plain": [
       "                        observedTreatmentEffect  trueCausalEffect\n",
       "anySecondaryPrevention                                           \n",
       "0                                      0.019199          0.017296\n",
       "1                                      0.032755          0.022322"
      ]
     },
     "execution_count": 102,
     "metadata": {},
     "output_type": "execute_result"
    }
   ],
   "source": [
    "baselineAssumptionPopulations.groupby('anySecondaryPrevention')[['observedTreatmentEffect','trueCausalEffect']].mean()"
   ]
  },
  {
   "cell_type": "markdown",
   "metadata": {},
   "source": [
    "<b>what we learn from the baseline population</b>\n",
    "<ol>\n",
    "    <li> overall treamtent effect is overestimated by 15%</li>\n",
    "    <li> the magnitude of overestimation is worse in teh secondary prevention than primary prevention population</li>\n",
    "    <li> there is a slight  overestimation of the treatment benefit in the population that never has a stroke because, the people at the highest “true” risk get pulled out of that population…the longer the follow-up the smaller this problem becomes.</li>\n",
    "<li> there is a large overestimation of the treatment benefit in the population that has a stroke in early waves</li>\n",
    "<li>the magnitude of the overestimation decreases in people that have events late, and in some scenarios there is underestimation</li>\n",
    "<li> in the baseline scenario (high baseline risk (10%) and long follow-up (10 years(), the overall (primary + secondary) observed treatment effect is over-estimated — by about 30%)</li> with a large baseline risk and a long follow-up\n",
    "</ol>    \n",
    "— so…there is a potential for this to cause pretty substantial treatment effect misestimation for us, given that we want to look at a relatively long time horizon and that our secondary vs. primary event differential is going to be pretty substantial. and we need to deal with...\n"
   ]
  },
  {
   "cell_type": "markdown",
   "metadata": {},
   "source": [
    "#### exploring how the efect changes under different assumptions\n",
    "\n",
    "1. the magnitude of the problem is related to primary event rates. if we reduce the baseline event rate to 1%, the overestimation of treatment effect falls...\n",
    "\n"
   ]
  },
  {
   "cell_type": "code",
   "execution_count": 103,
   "metadata": {},
   "outputs": [],
   "source": [
    "lowBaselineRiskPopulation = setupPopulation(n=100000, baselineRisk = 0.01,secondaryRiskMultiplier = 2.0, rrrPrimaryPrevention = 0.20, rrrSecondaryPrevention = 0.20, durationOfFollowup = 10 )"
   ]
  },
  {
   "cell_type": "code",
   "execution_count": 105,
   "metadata": {},
   "outputs": [
    {
     "name": "stdout",
     "output_type": "stream",
     "text": [
      "observedTreatmentEffect    0.005094\n",
      "trueCausalEffect           0.004290\n",
      "dtype: float64\n",
      "1.1874299388409288\n"
     ]
    }
   ],
   "source": [
    "lowBaselineResult = lowBaselineRiskPopulation[['observedTreatmentEffect', 'trueCausalEffect']].mean()\n",
    "print (lowBaselineResult)\n",
    "print (lowBaselineResult['observedTreatmentEffect'] / lowBaselineResult['trueCausalEffect'])"
   ]
  },
  {
   "cell_type": "markdown",
   "metadata": {},
   "source": [
    "2. its also related to the difference in primary and secondary event rates, the magnitude of overestimation falls from 30% when secondary rates are double primary rates to 15% when they’re 1.5 times as high.\n",
    "\n"
   ]
  },
  {
   "cell_type": "code",
   "execution_count": 106,
   "metadata": {},
   "outputs": [],
   "source": [
    "smallerSecondaryRisk = setupPopulation(n=100000, baselineRisk = 0.10,secondaryRiskMultiplier = 1.5, rrrPrimaryPrevention = 0.20, rrrSecondaryPrevention = 0.20, durationOfFollowup = 10 )"
   ]
  },
  {
   "cell_type": "code",
   "execution_count": 107,
   "metadata": {},
   "outputs": [
    {
     "name": "stdout",
     "output_type": "stream",
     "text": [
      "observedTreatmentEffect    0.023213\n",
      "trueCausalEffect           0.020011\n",
      "dtype: float64\n",
      "1.1599862943900872\n"
     ]
    }
   ],
   "source": [
    "smallSecondaryResult = smallerSecondaryRisk[['observedTreatmentEffect', 'trueCausalEffect']].mean()\n",
    "print (smallSecondaryResult)\n",
    "print (smallSecondaryResult['observedTreatmentEffect'] / smallSecondaryResult['trueCausalEffect'])"
   ]
  },
  {
   "cell_type": "markdown",
   "metadata": {},
   "source": [
    "3. it it essentially unrelated to treatment effect size in relative terms, but obviously important in absolute terms\n",
    "\n"
   ]
  },
  {
   "cell_type": "code",
   "execution_count": 109,
   "metadata": {},
   "outputs": [],
   "source": [
    "smallerRRR = setupPopulation(n=100000, baselineRisk = 0.10,secondaryRiskMultiplier = 2.0, rrrPrimaryPrevention = 0.10, rrrSecondaryPrevention = 0.10, durationOfFollowup = 10 )"
   ]
  },
  {
   "cell_type": "code",
   "execution_count": 112,
   "metadata": {},
   "outputs": [
    {
     "name": "stdout",
     "output_type": "stream",
     "text": [
      "observedTreatmentEffect    0.026309\n",
      "trueCausalEffect           0.010002\n",
      "dtype: float64\n",
      "2.6304333124594526\n"
     ]
    }
   ],
   "source": [
    "smalerRRRResult = smallerRRR[['observedTreatmentEffect', 'trueCausalEffect']].mean()\n",
    "print (smalerRRRResult)\n",
    "print (smalerRRRResult['observedTreatmentEffect'] / smalerRRRResult['trueCausalEffect'])"
   ]
  },
  {
   "cell_type": "markdown",
   "metadata": {},
   "source": [
    "4. it is highly sensitive to how long the sim runs…at 3 years of follow-up, treatment effect is overestimated by 10% vs. 30% at 10 years and 65% (!) at 30 years\n",
    "\n"
   ]
  },
  {
   "cell_type": "code",
   "execution_count": null,
   "metadata": {},
   "outputs": [],
   "source": [
    "smallerRRR = setupPopulation(n=100000, baselineRisk = 0.10,secondaryRiskMultiplier = 2.0, rrrPrimaryPrevention = 0.10, rrrSecondaryPrevention = 0.10, durationOfFollowup = 10 )"
   ]
  },
  {
   "cell_type": "markdown",
   "metadata": {},
   "source": [
    "### How to fix this? I think the idea is tat we need a joint model that accounts for boht event types.\n",
    "\n",
    "Best reference I've found so far: Amorim, L. D., & Cai, J. (2014). Modelling recurrent events: a tutorial for analysis in epidemiology. International Journal of Epidemiology, 44(1), 324–333. http://doi.org/10.1093/ije/dyu222\n",
    "\n",
    "I think that the model type that is going to work best is to stratify by primary secondary using a Prentice, Williams and Petersen model based on gap time. "
   ]
  },
  {
   "cell_type": "code",
   "execution_count": null,
   "metadata": {},
   "outputs": [],
   "source": []
  },
  {
   "cell_type": "code",
   "execution_count": 26,
   "metadata": {},
   "outputs": [],
   "source": [
    "timeSeries['id'] = timeSeries.index\n",
    "timeSeries['treatmentT0'] = 0\n",
    "timeSeries['noTreatmentT0'] = 0\n",
    "timeSeries['treatmentEffect0'] = 0\n",
    "long = pd.wide_to_long(timeSeries, stubnames=['treatmentT', 'noTreatmentT', 'treatmentEffect'],i='id', j='time' )\n",
    "long.sort_values(by=['id', 'time'])\n",
    "long['time2'] = long.index.get_level_values(1)\n",
    "long.loc[(long['time2'] > long['strokeWave'] ) & long['anySecondaryPrevention']==1, 'secondaryPrevention']= 1\n",
    "long['secondaryPrevention'] = long['secondaryPrevention'].fillna(0).astype(int)\n",
    "long.to_stata(\"simulatedDataOutput.dta\")"
   ]
  },
  {
   "cell_type": "code",
   "execution_count": 85,
   "metadata": {},
   "outputs": [],
   "source": [
    "# redefine the function for assigning risk.\n",
    "def assignEventAcrossPrimaryAndSecondaryPrevention(x):\n",
    "    riskForComparison = .0254017 /.8   * np.exp(x.baselineRisk*10.61679    + x.anySecondaryPrevention*.644023  + x.baselineRisk * x.anySecondaryPrevention * -1.905038   )\n",
    "    return np.random.uniform(low=0, high=1, size=1) < riskForComparison\n",
    "\n",
    "usingModel = setupPopulation()"
   ]
  },
  {
   "cell_type": "code",
   "execution_count": 86,
   "metadata": {},
   "outputs": [
    {
     "data": {
      "text/html": [
       "<div>\n",
       "<style scoped>\n",
       "    .dataframe tbody tr th:only-of-type {\n",
       "        vertical-align: middle;\n",
       "    }\n",
       "\n",
       "    .dataframe tbody tr th {\n",
       "        vertical-align: top;\n",
       "    }\n",
       "\n",
       "    .dataframe thead th {\n",
       "        text-align: right;\n",
       "    }\n",
       "</style>\n",
       "<table border=\"1\" class=\"dataframe\">\n",
       "  <thead>\n",
       "    <tr style=\"text-align: right;\">\n",
       "      <th></th>\n",
       "      <th>observedTreatmentEffect</th>\n",
       "      <th>trueCausalEffect</th>\n",
       "    </tr>\n",
       "    <tr>\n",
       "      <th>strokeWave</th>\n",
       "      <th></th>\n",
       "      <th></th>\n",
       "    </tr>\n",
       "  </thead>\n",
       "  <tbody>\n",
       "    <tr>\n",
       "      <th>0</th>\n",
       "      <td>0.019067</td>\n",
       "      <td>0.017492</td>\n",
       "    </tr>\n",
       "    <tr>\n",
       "      <th>1</th>\n",
       "      <td>0.032196</td>\n",
       "      <td>0.023438</td>\n",
       "    </tr>\n",
       "    <tr>\n",
       "      <th>2</th>\n",
       "      <td>0.031357</td>\n",
       "      <td>0.023116</td>\n",
       "    </tr>\n",
       "    <tr>\n",
       "      <th>3</th>\n",
       "      <td>0.029042</td>\n",
       "      <td>0.022873</td>\n",
       "    </tr>\n",
       "    <tr>\n",
       "      <th>4</th>\n",
       "      <td>0.029283</td>\n",
       "      <td>0.022327</td>\n",
       "    </tr>\n",
       "    <tr>\n",
       "      <th>5</th>\n",
       "      <td>0.026528</td>\n",
       "      <td>0.021902</td>\n",
       "    </tr>\n",
       "    <tr>\n",
       "      <th>6</th>\n",
       "      <td>0.024771</td>\n",
       "      <td>0.021649</td>\n",
       "    </tr>\n",
       "    <tr>\n",
       "      <th>7</th>\n",
       "      <td>0.024870</td>\n",
       "      <td>0.021587</td>\n",
       "    </tr>\n",
       "    <tr>\n",
       "      <th>8</th>\n",
       "      <td>0.022941</td>\n",
       "      <td>0.021065</td>\n",
       "    </tr>\n",
       "    <tr>\n",
       "      <th>9</th>\n",
       "      <td>0.021643</td>\n",
       "      <td>0.020791</td>\n",
       "    </tr>\n",
       "    <tr>\n",
       "      <th>10</th>\n",
       "      <td>0.019892</td>\n",
       "      <td>0.020727</td>\n",
       "    </tr>\n",
       "  </tbody>\n",
       "</table>\n",
       "</div>"
      ],
      "text/plain": [
       "            observedTreatmentEffect  trueCausalEffect\n",
       "strokeWave                                           \n",
       "0                          0.019067          0.017492\n",
       "1                          0.032196          0.023438\n",
       "2                          0.031357          0.023116\n",
       "3                          0.029042          0.022873\n",
       "4                          0.029283          0.022327\n",
       "5                          0.026528          0.021902\n",
       "6                          0.024771          0.021649\n",
       "7                          0.024870          0.021587\n",
       "8                          0.022941          0.021065\n",
       "9                          0.021643          0.020791\n",
       "10                         0.019892          0.020727"
      ]
     },
     "execution_count": 86,
     "metadata": {},
     "output_type": "execute_result"
    }
   ],
   "source": [
    "usingModel.groupby('strokeWave')[['observedTreatmentEffect','trueCausalEffect']].mean()"
   ]
  },
  {
   "cell_type": "code",
   "execution_count": 87,
   "metadata": {},
   "outputs": [
    {
     "data": {
      "text/html": [
       "<div>\n",
       "<style scoped>\n",
       "    .dataframe tbody tr th:only-of-type {\n",
       "        vertical-align: middle;\n",
       "    }\n",
       "\n",
       "    .dataframe tbody tr th {\n",
       "        vertical-align: top;\n",
       "    }\n",
       "\n",
       "    .dataframe thead th {\n",
       "        text-align: right;\n",
       "    }\n",
       "</style>\n",
       "<table border=\"1\" class=\"dataframe\">\n",
       "  <thead>\n",
       "    <tr style=\"text-align: right;\">\n",
       "      <th></th>\n",
       "      <th>observedTreatmentEffect</th>\n",
       "      <th>trueCausalEffect</th>\n",
       "    </tr>\n",
       "    <tr>\n",
       "      <th>anySecondaryPrevention</th>\n",
       "      <th></th>\n",
       "      <th></th>\n",
       "    </tr>\n",
       "  </thead>\n",
       "  <tbody>\n",
       "    <tr>\n",
       "      <th>0</th>\n",
       "      <td>0.019067</td>\n",
       "      <td>0.017492</td>\n",
       "    </tr>\n",
       "    <tr>\n",
       "      <th>1</th>\n",
       "      <td>0.027277</td>\n",
       "      <td>0.022189</td>\n",
       "    </tr>\n",
       "  </tbody>\n",
       "</table>\n",
       "</div>"
      ],
      "text/plain": [
       "                        observedTreatmentEffect  trueCausalEffect\n",
       "anySecondaryPrevention                                           \n",
       "0                                      0.019067          0.017492\n",
       "1                                      0.027277          0.022189"
      ]
     },
     "execution_count": 87,
     "metadata": {},
     "output_type": "execute_result"
    }
   ],
   "source": [
    "usingModel.groupby('anySecondaryPrevention')[['observedTreatmentEffect','trueCausalEffect']].mean()"
   ]
  },
  {
   "cell_type": "code",
   "execution_count": 88,
   "metadata": {},
   "outputs": [
    {
     "name": "stdout",
     "output_type": "stream",
     "text": [
      "observedTreatmentEffect    0.023552\n",
      "trueCausalEffect           0.020058\n",
      "dtype: float64\n",
      "1.1741988860834842\n"
     ]
    }
   ],
   "source": [
    "overallResultJoint = usingModel[['observedTreatmentEffect', 'trueCausalEffect']].mean()\n",
    "print (overallResultJoint)\n",
    "print (overallResultJoint['observedTreatmentEffect'] / overallResultJoint['trueCausalEffect'])"
   ]
  },
  {
   "cell_type": "code",
   "execution_count": null,
   "metadata": {},
   "outputs": [],
   "source": []
  }
 ],
 "metadata": {
  "kernelspec": {
   "display_name": "Python 3",
   "language": "python",
   "name": "python3"
  }
 },
 "nbformat": 4,
 "nbformat_minor": 2
}
