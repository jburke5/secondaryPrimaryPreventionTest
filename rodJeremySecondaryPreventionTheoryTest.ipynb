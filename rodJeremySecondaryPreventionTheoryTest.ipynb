{
 "cells": [
  {
   "cell_type": "code",
   "execution_count": 1,
   "metadata": {},
   "outputs": [],
   "source": [
    "import pandas as pd\n",
    "import numpy as np"
   ]
  },
  {
   "cell_type": "markdown",
   "metadata": {},
   "source": [
    "Here is the idea — we'll setup baseline risks (higher in secondary than primary prevention) and then apply relative risk reductions acrtoss groups to estimate the total ARRs. \n",
    "\n",
    "We'll assume that treamtent compliance is perfect — will estimate the \"untreated\" effect simply as a counter-factual comparator.\n",
    "\n",
    "Assume that everybody starts event free and everybody is treated. We'll look at 3 time epochs t1 (year 0-> year1), t2 (year 1->2) and t3 (year 2->3)"
   ]
  },
  {
   "cell_type": "markdown",
   "metadata": {},
   "source": [
    "### Setup a baseline risk distribution"
   ]
  },
  {
   "cell_type": "code",
   "execution_count": 7,
   "metadata": {},
   "outputs": [],
   "source": [
    "n = 1000000\n",
    "baselineRisk = 0.10\n",
    "secondaryRiskMultiplier = 2.0\n",
    "rrrPrimaryPrevention = 0.20\n",
    "rrrSecondaryPrevention = 0.20\n",
    "# for this hypothetical, the increase is risk is purely as a risk marker, there is no casual increase in risk.\n",
    "\n",
    "timeSeries = pd.DataFrame(data={'baselineRisk' : np.random.normal(loc=baselineRisk, scale=(0.04), size=n)})\n",
    "timeSeries[timeSeries['baselineRisk'] < 0 ] = 0\n",
    "timeSeries['secondaryRisk'] = timeSeries['baselineRisk'] * secondaryRiskMultiplier"
   ]
  },
  {
   "cell_type": "markdown",
   "metadata": {},
   "source": [
    "### Assign events for the first epoch"
   ]
  },
  {
   "cell_type": "code",
   "execution_count": 8,
   "metadata": {},
   "outputs": [],
   "source": [
    "# there is probably a way to do this with a logical operator that only returns true for 1 and 1, but this is clearer\n",
    "def applyTreatment(x):\n",
    "    if x ==1:\n",
    "        return np.random.uniform(low=0, high=1, size=1) > rrrPrimaryPrevention\n",
    "    elif x==0:\n",
    "        return 0\n",
    "\n",
    "# risk of stroke without treatment between time 0 to time 1 — this represents an unobserved counter-factual\n",
    "# in this story, everygody is going to be treated.\n",
    "\n",
    "timeSeries['noTreatmentT1'] = (timeSeries['baselineRisk'] > np.random.uniform(low=0, high=1, size=n)).astype(int)\n",
    "timeSeries['treatmentT1'] = (timeSeries['noTreatmentT1'].apply(applyTreatment)).astype(int)\n",
    "\n",
    "timeSeries['treatmentEffectT1'] = timeSeries['noTreatmentT1'] - timeSeries['treatmentT1']\n",
    "timeSeries['anySecondaryPrevention'] = timeSeries['treatmentT1']"
   ]
  },
  {
   "cell_type": "markdown",
   "metadata": {},
   "source": [
    "### Assign events for the second epoch"
   ]
  },
  {
   "cell_type": "code",
   "execution_count": 9,
   "metadata": {},
   "outputs": [],
   "source": [
    "def assignEventAcrossPrimaryAndSecondaryPrevention(x):\n",
    "    riskForComparison = x.secondaryRisk if x.anySecondaryPrevention else x.baselineRisk\n",
    "    return np.random.uniform(low=0, high=1, size=1) < riskForComparison\n",
    "\n",
    "timeSeries['noTreatmentT2'] = (timeSeries.apply(assignEventAcrossPrimaryAndSecondaryPrevention, axis=1)).astype(int)\n",
    "timeSeries['treatmentT2'] = (timeSeries['noTreatmentT2'].apply(applyTreatment)).astype(int)\n",
    "\n",
    "timeSeries['treatmentEffectT2'] = timeSeries['noTreatmentT2'] - timeSeries['treatmentT2']\n",
    "timeSeries['anySecondaryPrevention'] = pd.DataFrame([timeSeries['anySecondaryPrevention'],timeSeries['treatmentT2']]).max()"
   ]
  },
  {
   "cell_type": "markdown",
   "metadata": {},
   "source": [
    "### 3rd Epoch"
   ]
  },
  {
   "cell_type": "code",
   "execution_count": 10,
   "metadata": {},
   "outputs": [],
   "source": [
    "timeSeries['noTreatmentT3'] = (timeSeries.apply(assignEventAcrossPrimaryAndSecondaryPrevention, axis=1)).astype(int)\n",
    "timeSeries['treatmentT3'] = (timeSeries['noTreatmentT3'].apply(applyTreatment)).astype(int)\n",
    "\n",
    "timeSeries['treatmentEffectT3'] = timeSeries['noTreatmentT3'] - timeSeries['treatmentT3']\n",
    "timeSeries['anySecondaryPrevention'] = pd.DataFrame([timeSeries['anySecondaryPrevention'],timeSeries['treatmentT3']]).max()\n",
    "\n",
    "conditions = [\n",
    "    (timeSeries['treatmentT1'] == 1),\n",
    "    (timeSeries['treatmentT2'] == 1),\n",
    "    (timeSeries['treatmentT3'] == 1)]\n",
    "choices = [1, 2, 3]\n",
    "timeSeries['strokeWave'] = np.select(conditions, choices, default='0')\n",
    "\n",
    "timeSeries['totalTreatmentEffect'] = (timeSeries.treatmentEffectT1 + timeSeries.treatmentEffectT2 + timeSeries.treatmentEffectT3) / 3"
   ]
  },
  {
   "cell_type": "code",
   "execution_count": 13,
   "metadata": {},
   "outputs": [
    {
     "data": {
      "text/plain": [
       "0    0.979914\n",
       "1    0.020086\n",
       "Name: treatmentEffectT1, dtype: float64"
      ]
     },
     "execution_count": 13,
     "metadata": {},
     "output_type": "execute_result"
    }
   ],
   "source": [
    "timeSeries.treatmentEffectT1.value_counts(normalize=True)"
   ]
  },
  {
   "cell_type": "code",
   "execution_count": 11,
   "metadata": {},
   "outputs": [
    {
     "data": {
      "text/html": [
       "<div>\n",
       "<style scoped>\n",
       "    .dataframe tbody tr th:only-of-type {\n",
       "        vertical-align: middle;\n",
       "    }\n",
       "\n",
       "    .dataframe tbody tr th {\n",
       "        vertical-align: top;\n",
       "    }\n",
       "\n",
       "    .dataframe thead th {\n",
       "        text-align: right;\n",
       "    }\n",
       "</style>\n",
       "<table border=\"1\" class=\"dataframe\">\n",
       "  <thead>\n",
       "    <tr style=\"text-align: right;\">\n",
       "      <th></th>\n",
       "      <th>treatmentEffectT1</th>\n",
       "      <th>treatmentEffectT2</th>\n",
       "      <th>treatmentEffectT3</th>\n",
       "      <th>totalTreatmentEffect</th>\n",
       "    </tr>\n",
       "    <tr>\n",
       "      <th>strokeWave</th>\n",
       "      <th></th>\n",
       "      <th></th>\n",
       "      <th></th>\n",
       "      <th></th>\n",
       "    </tr>\n",
       "  </thead>\n",
       "  <tbody>\n",
       "    <tr>\n",
       "      <th>0</th>\n",
       "      <td>0.021157</td>\n",
       "      <td>0.020847</td>\n",
       "      <td>0.021173</td>\n",
       "      <td>0.021059</td>\n",
       "    </tr>\n",
       "    <tr>\n",
       "      <th>1</th>\n",
       "      <td>0.000000</td>\n",
       "      <td>0.045613</td>\n",
       "      <td>0.046100</td>\n",
       "      <td>0.030571</td>\n",
       "    </tr>\n",
       "    <tr>\n",
       "      <th>2</th>\n",
       "      <td>0.026121</td>\n",
       "      <td>0.000000</td>\n",
       "      <td>0.045263</td>\n",
       "      <td>0.023794</td>\n",
       "    </tr>\n",
       "    <tr>\n",
       "      <th>3</th>\n",
       "      <td>0.025170</td>\n",
       "      <td>0.024110</td>\n",
       "      <td>0.000000</td>\n",
       "      <td>0.016427</td>\n",
       "    </tr>\n",
       "  </tbody>\n",
       "</table>\n",
       "</div>"
      ],
      "text/plain": [
       "            treatmentEffectT1  treatmentEffectT2  treatmentEffectT3  \\\n",
       "strokeWave                                                            \n",
       "0                    0.021157           0.020847           0.021173   \n",
       "1                    0.000000           0.045613           0.046100   \n",
       "2                    0.026121           0.000000           0.045263   \n",
       "3                    0.025170           0.024110           0.000000   \n",
       "\n",
       "            totalTreatmentEffect  \n",
       "strokeWave                        \n",
       "0                       0.021059  \n",
       "1                       0.030571  \n",
       "2                       0.023794  \n",
       "3                       0.016427  "
      ]
     },
     "execution_count": 11,
     "metadata": {},
     "output_type": "execute_result"
    }
   ],
   "source": [
    "timeSeries.groupby('strokeWave')[['treatmentEffectT1', 'treatmentEffectT2', 'treatmentEffectT3','totalTreatmentEffect']].mean()"
   ]
  },
  {
   "cell_type": "code",
   "execution_count": 14,
   "metadata": {},
   "outputs": [],
   "source": [
    "timeSeries['treatmentEffectPrimaryOnly'] = timeSeries.baselineRisk * rrrPrimaryPrevention"
   ]
  },
  {
   "cell_type": "code",
   "execution_count": 15,
   "metadata": {},
   "outputs": [
    {
     "data": {
      "text/html": [
       "<div>\n",
       "<style scoped>\n",
       "    .dataframe tbody tr th:only-of-type {\n",
       "        vertical-align: middle;\n",
       "    }\n",
       "\n",
       "    .dataframe tbody tr th {\n",
       "        vertical-align: top;\n",
       "    }\n",
       "\n",
       "    .dataframe thead th {\n",
       "        text-align: right;\n",
       "    }\n",
       "</style>\n",
       "<table border=\"1\" class=\"dataframe\">\n",
       "  <thead>\n",
       "    <tr style=\"text-align: right;\">\n",
       "      <th></th>\n",
       "      <th>treatmentEffectT1</th>\n",
       "      <th>treatmentEffectT2</th>\n",
       "      <th>treatmentEffectT3</th>\n",
       "      <th>totalTreatmentEffect</th>\n",
       "      <th>treatmentEffectPrimaryOnly</th>\n",
       "    </tr>\n",
       "    <tr>\n",
       "      <th>strokeWave</th>\n",
       "      <th></th>\n",
       "      <th></th>\n",
       "      <th></th>\n",
       "      <th></th>\n",
       "      <th></th>\n",
       "    </tr>\n",
       "  </thead>\n",
       "  <tbody>\n",
       "    <tr>\n",
       "      <th>0</th>\n",
       "      <td>0.021157</td>\n",
       "      <td>0.020847</td>\n",
       "      <td>0.021173</td>\n",
       "      <td>0.021059</td>\n",
       "      <td>0.019199</td>\n",
       "    </tr>\n",
       "    <tr>\n",
       "      <th>1</th>\n",
       "      <td>0.000000</td>\n",
       "      <td>0.045613</td>\n",
       "      <td>0.046100</td>\n",
       "      <td>0.030571</td>\n",
       "      <td>0.023177</td>\n",
       "    </tr>\n",
       "    <tr>\n",
       "      <th>2</th>\n",
       "      <td>0.026121</td>\n",
       "      <td>0.000000</td>\n",
       "      <td>0.045263</td>\n",
       "      <td>0.023794</td>\n",
       "      <td>0.022957</td>\n",
       "    </tr>\n",
       "    <tr>\n",
       "      <th>3</th>\n",
       "      <td>0.025170</td>\n",
       "      <td>0.024110</td>\n",
       "      <td>0.000000</td>\n",
       "      <td>0.016427</td>\n",
       "      <td>0.022695</td>\n",
       "    </tr>\n",
       "  </tbody>\n",
       "</table>\n",
       "</div>"
      ],
      "text/plain": [
       "            treatmentEffectT1  treatmentEffectT2  treatmentEffectT3  \\\n",
       "strokeWave                                                            \n",
       "0                    0.021157           0.020847           0.021173   \n",
       "1                    0.000000           0.045613           0.046100   \n",
       "2                    0.026121           0.000000           0.045263   \n",
       "3                    0.025170           0.024110           0.000000   \n",
       "\n",
       "            totalTreatmentEffect  treatmentEffectPrimaryOnly  \n",
       "strokeWave                                                    \n",
       "0                       0.021059                    0.019199  \n",
       "1                       0.030571                    0.023177  \n",
       "2                       0.023794                    0.022957  \n",
       "3                       0.016427                    0.022695  "
      ]
     },
     "execution_count": 15,
     "metadata": {},
     "output_type": "execute_result"
    }
   ],
   "source": [
    "timeSeries.groupby('strokeWave')[['treatmentEffectT1', 'treatmentEffectT2', 'treatmentEffectT3','totalTreatmentEffect','treatmentEffectPrimaryOnly']].mean()"
   ]
  },
  {
   "cell_type": "code",
   "execution_count": null,
   "metadata": {},
   "outputs": [],
   "source": []
  }
 ],
 "metadata": {
  "kernelspec": {
   "display_name": "Python 3",
   "language": "python",
   "name": "python3"
  },
  "language_info": {
   "codemirror_mode": {
    "name": "ipython",
    "version": 3
   },
   "file_extension": ".py",
   "mimetype": "text/x-python",
   "name": "python",
   "nbconvert_exporter": "python",
   "pygments_lexer": "ipython3",
   "version": "3.6.5"
  }
 },
 "nbformat": 4,
 "nbformat_minor": 2
}
